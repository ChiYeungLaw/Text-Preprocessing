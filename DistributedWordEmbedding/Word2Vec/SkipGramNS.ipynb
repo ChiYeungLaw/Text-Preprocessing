{
 "cells": [
  {
   "cell_type": "markdown",
   "metadata": {
    "colab_type": "text",
    "id": "7USt-EqQ2DzJ"
   },
   "source": [
    "# 简介"
   ]
  },
  {
   "cell_type": "markdown",
   "metadata": {
    "colab_type": "text",
    "id": "T6SrgKTb2LAd"
   },
   "source": [
    "本实验将使用Pytorch实现word2vec的SkipGram模型，并采用了Negative Sampling的策略，同时使用了来自语料库的Penn Tree Bank的数据集`PTB.train.txt`对模型进行训练，得到了词向量。"
   ]
  },
  {
   "cell_type": "markdown",
   "metadata": {
    "colab_type": "text",
    "id": "MpYxKeVd2qaf"
   },
   "source": [
    "# 数据处理与下载"
   ]
  },
  {
   "cell_type": "markdown",
   "metadata": {
    "colab_type": "text",
    "id": "CE3V9BTN2uIM"
   },
   "source": [
    "因为本实验是在Google Colab上进行的，所以需要先挂在Google的drive。"
   ]
  },
  {
   "cell_type": "code",
   "execution_count": 59,
   "metadata": {
    "colab": {
     "base_uri": "https://localhost:8080/",
     "height": 104
    },
    "colab_type": "code",
    "id": "X-dK2l8T22Xv",
    "outputId": "65d415a9-7040-4521-84e1-851955f0856d"
   },
   "outputs": [
    {
     "name": "stdout",
     "output_type": "stream",
     "text": [
      "Drive already mounted at /content/drive; to attempt to forcibly remount, call drive.mount(\"/content/drive\", force_remount=True).\n",
      " 2238322.gdoc\t   'Modern Family s01e01 Episode Script | SS.gdoc'\n",
      " 2238322.pdf\t   'Modern Family s01e01 Episode Script | SS.pdf'\n",
      "'Colab Notebooks'   ptb.train.txt\n",
      " fractal.mp4\t    WechatIMG7.jpeg\n"
     ]
    }
   ],
   "source": [
    "import os\n",
    "from google.colab import drive\n",
    "drive.mount(\"/content/drive\")\n",
    "path = \"/content/drive/My Drive\"\n",
    "os.chdir(path)\n",
    "!ls"
   ]
  },
  {
   "cell_type": "markdown",
   "metadata": {
    "colab_type": "text",
    "id": "7_0esGiG3nOC"
   },
   "source": [
    "由上我们可以看到，此时我们已经切换到了所需训练文件所在的路径了。"
   ]
  },
  {
   "cell_type": "markdown",
   "metadata": {
    "colab_type": "text",
    "id": "yyC-5FLw30iH"
   },
   "source": [
    "我们可以先读取部分的数据，并观察一下数据。"
   ]
  },
  {
   "cell_type": "code",
   "execution_count": 60,
   "metadata": {
    "colab": {
     "base_uri": "https://localhost:8080/",
     "height": 35
    },
    "colab_type": "code",
    "id": "6tpXxieE36zb",
    "outputId": "0016f461-e062-4cd8-ce54-039fc47d9ddf"
   },
   "outputs": [
    {
     "name": "stdout",
     "output_type": "stream",
     "text": [
      "The number of lines in the dataset is 42068.\n"
     ]
    }
   ],
   "source": [
    "with open(\"ptb.train.txt\", encoding=\"utf-8\") as f:\n",
    "    lines = f.readlines()\n",
    "print(f\"The number of lines in the dataset is {len(lines)}.\")"
   ]
  },
  {
   "cell_type": "markdown",
   "metadata": {
    "colab_type": "text",
    "id": "-5nxHY3Z4ykC"
   },
   "source": [
    "我们可以看到数据集由4万多条文本组成。"
   ]
  },
  {
   "cell_type": "markdown",
   "metadata": {
    "colab_type": "text",
    "id": "Nq6mbfjK5Bza"
   },
   "source": [
    "现在我们对利用空格进行粗分词，并对文本前三行进行次数的统计和前6个词语的显示。"
   ]
  },
  {
   "cell_type": "code",
   "execution_count": 61,
   "metadata": {
    "colab": {
     "base_uri": "https://localhost:8080/",
     "height": 173
    },
    "colab_type": "code",
    "id": "r733vwHT5Api",
    "outputId": "ee655dc4-97c4-45b3-9ec3-7be9fe687599"
   },
   "outputs": [
    {
     "name": "stdout",
     "output_type": "stream",
     "text": [
      "The number of word in the 1 line is 24.\n",
      "The first 6 word in the 1 line is ['aer', 'banknote', 'berlitz', 'calloway', 'centrust', 'cluett']\n",
      "\n",
      "The number of word in the 2 line is 15.\n",
      "The first 6 word in the 2 line is ['pierre', '<unk>', 'N', 'years', 'old', 'will']\n",
      "\n",
      "The number of word in the 3 line is 11.\n",
      "The first 6 word in the 3 line is ['mr.', '<unk>', 'is', 'chairman', 'of', '<unk>']\n",
      "\n"
     ]
    }
   ],
   "source": [
    "datasets = [line.split() for line in lines]\n",
    "for i in range(3):\n",
    "    print(f\"The number of word in the {i+1} line is {len(datasets[i])}.\")\n",
    "    print(f\"The first 6 word in the {i+1} line is {datasets[i][:6]}\")\n",
    "    print()"
   ]
  },
  {
   "cell_type": "markdown",
   "metadata": {
    "colab_type": "text",
    "id": "fyLgjjMO54zT"
   },
   "source": [
    "我们可以看到数据集中数字都被转换为'N'表示，生僻词都转换为'`<unk>`'表示。"
   ]
  },
  {
   "cell_type": "markdown",
   "metadata": {
    "colab_type": "text",
    "id": "eJn2te5F6vZc"
   },
   "source": [
    "由此我们得到了模型训练所需要的数据集`datasets`了。"
   ]
  },
  {
   "cell_type": "markdown",
   "metadata": {
    "colab_type": "text",
    "id": "62gDtYaV63a4"
   },
   "source": [
    "# 词语索引建立"
   ]
  },
  {
   "cell_type": "markdown",
   "metadata": {
    "colab_type": "text",
    "id": "Z_yR0NwG674J"
   },
   "source": [
    "只有文本数据是没有用的，我们需要做的是对数据集进行词频的统计，为了训练的计算简单，把词频低于5的词语丢弃，同时建立词语和索引之间的互相映射。"
   ]
  },
  {
   "cell_type": "code",
   "execution_count": 0,
   "metadata": {
    "colab": {},
    "colab_type": "code",
    "id": "0MzZ5ZT-6GfO"
   },
   "outputs": [],
   "source": [
    "from collections import Counter\n",
    "\n",
    "counter = Counter([word for line in datasets for word in line])\n",
    "counter = dict(filter(lambda x: x[1] > 5, counter.items()))"
   ]
  },
  {
   "cell_type": "code",
   "execution_count": 63,
   "metadata": {
    "colab": {
     "base_uri": "https://localhost:8080/",
     "height": 35
    },
    "colab_type": "code",
    "id": "iZZ6Cow98tUl",
    "outputId": "35182e8a-3e91-4056-8eb5-06008ec11f98"
   },
   "outputs": [
    {
     "name": "stdout",
     "output_type": "stream",
     "text": [
      "The number of word in the vocabulary is 9582.\n"
     ]
    }
   ],
   "source": [
    "print(f\"The number of word in the vocabulary is {len(counter)}.\")"
   ]
  },
  {
   "cell_type": "markdown",
   "metadata": {
    "colab_type": "text",
    "id": "iEsDsO4P9SRF"
   },
   "source": [
    "建立词语和索引之间的互相映射。"
   ]
  },
  {
   "cell_type": "code",
   "execution_count": 64,
   "metadata": {
    "colab": {
     "base_uri": "https://localhost:8080/",
     "height": 52
    },
    "colab_type": "code",
    "id": "Qh9crbfe9WP0",
    "outputId": "65666697-7c09-4875-cdc4-054fb59f0261"
   },
   "outputs": [
    {
     "name": "stdout",
     "output_type": "stream",
     "text": [
      "The index of car is 3786.\n",
      "The word of index 3786 is car.\n"
     ]
    }
   ],
   "source": [
    "idx_to_word = [word for word, _ in counter.items()]\n",
    "word_to_idx = {word: idx for idx, word in enumerate(idx_to_word)}\n",
    "index = word_to_idx['car']\n",
    "print(f\"The index of car is {index}.\")\n",
    "print(f\"The word of index {index} is {idx_to_word[index]}.\")"
   ]
  },
  {
   "cell_type": "markdown",
   "metadata": {
    "colab_type": "text",
    "id": "LtcIuESOCpi4"
   },
   "source": [
    "将`datasets`里的所有word转换为index："
   ]
  },
  {
   "cell_type": "code",
   "execution_count": 0,
   "metadata": {
    "colab": {},
    "colab_type": "code",
    "id": "re0PGtvNCxl6"
   },
   "outputs": [],
   "source": [
    "datasets = [[word_to_idx[word] for word in line if word in word_to_idx] for line in datasets]"
   ]
  },
  {
   "cell_type": "code",
   "execution_count": 0,
   "metadata": {
    "colab": {},
    "colab_type": "code",
    "id": "5mSkOFvREzQo"
   },
   "outputs": [],
   "source": [
    "num_tokens = sum([len(line) for line in datasets])"
   ]
  },
  {
   "cell_type": "markdown",
   "metadata": {
    "colab_type": "text",
    "id": "v_ep1AIQ97rD"
   },
   "source": [
    "# 二次采样"
   ]
  },
  {
   "cell_type": "markdown",
   "metadata": {
    "colab_type": "text",
    "id": "KakTW-vv997F"
   },
   "source": [
    "文本中会有很多的高频词，譬如：`the`等，这些高频词对于词向量的构建来说相较于低频词`join`等的重要性要低，所以我们要根据词频进行二次采样，以一定的概率丢掉部分的高频词，概率计算公式如下：\n",
    "$$\n",
    "P(w_i)=\\max\\left(1-\\sqrt{\\frac{t}{f(w_i)}},0\\right),\n",
    "$$\n",
    "其中$f(w_i)$表示的是词$w_i$的词频，$t$为超参数，这里设为$10^{-4}$。"
   ]
  },
  {
   "cell_type": "code",
   "execution_count": 0,
   "metadata": {
    "colab": {},
    "colab_type": "code",
    "id": "3jjNmmLlAfxQ"
   },
   "outputs": [],
   "source": [
    "import random\n",
    "import math\n",
    "\n",
    "def throw(idx):\n",
    "    return random.uniform(0, 1) < (1 - math.sqrt(1e-4 / counter[idx_to_word[idx]] * num_tokens))\n",
    "\n",
    "subsampling = [[idx for idx in line if not throw(idx)] for line in datasets]"
   ]
  },
  {
   "cell_type": "markdown",
   "metadata": {
    "colab_type": "text",
    "id": "4pjipTGqEOCE"
   },
   "source": [
    "由此我们得到二次采样后的新数据集，我们可以比较一下新数据集与原数据集的差别。"
   ]
  },
  {
   "cell_type": "code",
   "execution_count": 68,
   "metadata": {
    "colab": {
     "base_uri": "https://localhost:8080/",
     "height": 52
    },
    "colab_type": "code",
    "id": "9YhiC5QbEDHQ",
    "outputId": "66cdbf82-9c9a-4b52-883f-06568f72cf88"
   },
   "outputs": [
    {
     "name": "stdout",
     "output_type": "stream",
     "text": [
      "The number of words in subsampling dataset is 373692.\n",
      "The number of words in original dataset is 885720.\n"
     ]
    }
   ],
   "source": [
    "print(f\"The number of words in subsampling dataset is {sum([len(line) for line in subsampling])}.\")\n",
    "print(f\"The number of words in original dataset is {sum([len(line) for line in datasets])}.\")"
   ]
  },
  {
   "cell_type": "markdown",
   "metadata": {
    "colab_type": "text",
    "id": "Xd1_w-HlFPG1"
   },
   "source": [
    "我们也可以看一下高频词`the`的频数的变化："
   ]
  },
  {
   "cell_type": "code",
   "execution_count": 69,
   "metadata": {
    "colab": {
     "base_uri": "https://localhost:8080/",
     "height": 52
    },
    "colab_type": "code",
    "id": "PyKxdN_oFOoc",
    "outputId": "d610af97-d5e9-47b1-92b9-fc829edbafd4"
   },
   "outputs": [
    {
     "name": "stdout",
     "output_type": "stream",
     "text": [
      "Before subsampling, the frequency of 'the' is 50770.\n",
      "After subsampling, the frequency of 'the' is 2091.\n"
     ]
    }
   ],
   "source": [
    "before_the_num = sum([line.count(word_to_idx['the']) for line in datasets])\n",
    "after_the_num = sum([line.count(word_to_idx['the']) for line in subsampling])\n",
    "print(f\"Before subsampling, the frequency of 'the' is {before_the_num}.\")\n",
    "print(f\"After subsampling, the frequency of 'the' is {after_the_num}.\")"
   ]
  },
  {
   "cell_type": "markdown",
   "metadata": {
    "colab_type": "text",
    "id": "mWehSOUUF16B"
   },
   "source": [
    "我们也可以看一下低频词`car`的频数的变化："
   ]
  },
  {
   "cell_type": "code",
   "execution_count": 98,
   "metadata": {
    "colab": {
     "base_uri": "https://localhost:8080/",
     "height": 52
    },
    "colab_type": "code",
    "id": "edW2UDqQFdBK",
    "outputId": "f0b7ce9a-772a-4591-fe02-e39fdd223795"
   },
   "outputs": [
    {
     "name": "stdout",
     "output_type": "stream",
     "text": [
      "Before subsampling, the frequency of 'car' is 182.\n",
      "After subsampling, the frequency of 'car' is 132.\n"
     ]
    }
   ],
   "source": [
    "before_car_num = sum([line.count(word_to_idx['car']) for line in datasets])\n",
    "after_car_num = sum([line.count(word_to_idx['car']) for line in subsampling])\n",
    "print(f\"Before subsampling, the frequency of 'car' is {before_car_num}.\")\n",
    "print(f\"After subsampling, the frequency of 'car' is {after_car_num}.\")"
   ]
  },
  {
   "cell_type": "markdown",
   "metadata": {
    "colab_type": "text",
    "id": "T9a8y9edGEL2"
   },
   "source": [
    "我们可以看到低频词的频数的变化远小于高频词的频数变化，这符合我们的预期，接下来我们将在subsampling数据集进行处理。"
   ]
  },
  {
   "cell_type": "markdown",
   "metadata": {
    "colab_type": "text",
    "id": "LMPqMjESGRkt"
   },
   "source": [
    "# 提取center word与context word"
   ]
  },
  {
   "cell_type": "markdown",
   "metadata": {
    "colab_type": "text",
    "id": "YjSRnOcjGhyE"
   },
   "source": [
    "对于每一个center word，我们随机在1到`max_window_size`选一个整数作为context窗口的大小。"
   ]
  },
  {
   "cell_type": "code",
   "execution_count": 0,
   "metadata": {
    "colab": {},
    "colab_type": "code",
    "id": "bmQiflSAGx2Q"
   },
   "outputs": [],
   "source": [
    "def get_centers_and_contexts(datasets, max_window_size=4):\n",
    "    centers, contexts = [], []\n",
    "    for line in datasets:\n",
    "        if len(line) < 2:\n",
    "            continue\n",
    "        centers += line\n",
    "        for i in range(len(line)):\n",
    "            window_size = random.randint(1, max_window_size)\n",
    "            indices = list(range(max(0, i - window_size), min(len(line), i + window_size + 1)))\n",
    "            indices.remove(i)\n",
    "            contexts.append([line[idx] for idx in indices])\n",
    "    return centers, contexts"
   ]
  },
  {
   "cell_type": "markdown",
   "metadata": {
    "colab_type": "text",
    "id": "VTNr06tPKAP5"
   },
   "source": [
    "函数测试："
   ]
  },
  {
   "cell_type": "code",
   "execution_count": 72,
   "metadata": {
    "colab": {
     "base_uri": "https://localhost:8080/",
     "height": 207
    },
    "colab_type": "code",
    "id": "9wnd_b28IHry",
    "outputId": "ddf8655f-aca9-4a2e-aea7-8fb35d6e23c0"
   },
   "outputs": [
    {
     "name": "stdout",
     "output_type": "stream",
     "text": [
      "Center word: 0 -> Context words: [1].\n",
      "Center word: 1 -> Context words: [0, 2, 3].\n",
      "Center word: 2 -> Context words: [1, 3].\n",
      "Center word: 3 -> Context words: [2, 4].\n",
      "Center word: 4 -> Context words: [2, 3, 5, 6].\n",
      "Center word: 5 -> Context words: [3, 4, 6, 7].\n",
      "Center word: 6 -> Context words: [4, 5, 7].\n",
      "Center word: 7 -> Context words: [5, 6].\n",
      "Center word: 8 -> Context words: [9, 10].\n",
      "Center word: 9 -> Context words: [8, 10].\n",
      "Center word: 10 -> Context words: [9].\n"
     ]
    }
   ],
   "source": [
    "toy_data = [list(range(8)), [8, 9, 10]]\n",
    "toy_centers, toy_contexts = get_centers_and_contexts(toy_data, 2)\n",
    "for cen, cont in zip(toy_centers, toy_contexts):\n",
    "    print(f\"Center word: {cen} -> Context words: {cont}.\")"
   ]
  },
  {
   "cell_type": "markdown",
   "metadata": {
    "colab_type": "text",
    "id": "pOVUKQO-KCrR"
   },
   "source": [
    "接下来我们要提取数据集的所有center word和context words："
   ]
  },
  {
   "cell_type": "code",
   "execution_count": 0,
   "metadata": {
    "colab": {},
    "colab_type": "code",
    "id": "fwWQ_hANKJeU"
   },
   "outputs": [],
   "source": [
    "all_centers, all_contexts = get_centers_and_contexts(subsampling, 5)"
   ]
  },
  {
   "cell_type": "markdown",
   "metadata": {
    "colab_type": "text",
    "id": "70ctglenKjdF"
   },
   "source": [
    "# 负采样"
   ]
  },
  {
   "cell_type": "markdown",
   "metadata": {
    "colab_type": "text",
    "id": "JG8tB3xiKp1M"
   },
   "source": [
    "对于一对的center word和context word，我们要提取$K$个noise word，这里$K$取5，以词频的0.75次方概率从词典中取词。"
   ]
  },
  {
   "cell_type": "code",
   "execution_count": 0,
   "metadata": {
    "colab": {},
    "colab_type": "code",
    "id": "IP2Kj8mkKo3m"
   },
   "outputs": [],
   "source": [
    "def get_negatives(all_contexts, K, sampling_weights):\n",
    "    i = 0\n",
    "    all_negatives = []\n",
    "    negatives_candidate = []\n",
    "    population = list(range(len(sampling_weights)))\n",
    "    for context in all_contexts:\n",
    "        negatives = []\n",
    "        while len(negatives) < len(context) * K:\n",
    "            if i == len(negatives_candidate):\n",
    "                negatives_candidate = random.choices(population, sampling_weights, k=int(1e5))\n",
    "                i = 0\n",
    "            neg, i = negatives_candidate[i], i+1\n",
    "            if neg not in set(context):\n",
    "                negatives.append(neg)\n",
    "        all_negatives.append(negatives)\n",
    "    return all_negatives"
   ]
  },
  {
   "cell_type": "code",
   "execution_count": 0,
   "metadata": {
    "colab": {},
    "colab_type": "code",
    "id": "XOGDtSnVOJSm"
   },
   "outputs": [],
   "source": [
    "sampling_weights = [counter[word] ** 0.75 for word in word_to_idx]\n",
    "all_negatives = get_negatives(all_contexts, 5, sampling_weights)"
   ]
  },
  {
   "cell_type": "markdown",
   "metadata": {
    "colab_type": "text",
    "id": "6tLuRCV3hLFP"
   },
   "source": [
    "# 数据读取"
   ]
  },
  {
   "cell_type": "markdown",
   "metadata": {
    "colab_type": "text",
    "id": "fHFu7tAThNcJ"
   },
   "source": [
    "在获得了对应的`all_centers`，`all_contexts`和`all_negatives`之后，我们要批量读取数据。"
   ]
  },
  {
   "cell_type": "code",
   "execution_count": 0,
   "metadata": {
    "colab": {},
    "colab_type": "code",
    "id": "KNSx_T1If4-Z"
   },
   "outputs": [],
   "source": [
    "import torch\n",
    "import torch.nn as nn\n",
    "\n",
    "class MyDataset(torch.utils.data.Dataset):\n",
    "    def __init__(self, centers, contexts, negatives):\n",
    "        assert len(centers) == len(contexts) == len(negatives)\n",
    "        self.centers = centers\n",
    "        self.contexts = contexts\n",
    "        self.negatives = negatives\n",
    "    \n",
    "    def __getitem__(self, index):\n",
    "        return (self.centers[index], self.contexts[index], self.negatives[index])\n",
    "    \n",
    "    def __len__(self):\n",
    "        return len(self.centers)"
   ]
  },
  {
   "cell_type": "markdown",
   "metadata": {
    "colab_type": "text",
    "id": "GW0HdZYFmIbA"
   },
   "source": [
    "一个小批量的数据会包含center word以及它的context和negative，这里我们打算把context和negative合并在一起为一个序列，但因为每个center word对应的context，negative pair的长度都是不一样，这时需要给每个序列补长，使他们达到相同的长度，这里直接补0就可以了，但这里要注意的是损失函数计算的时候，这些补充的元素并不参与计算，所以要给每个元素增添上一个mask，如果该word是补码的话，就为0，不是的话，就为1，因为我们把context和negative和在一起了，我们也需要一个label vector，用来标记哪个是正例，用1标记context，其他为0。"
   ]
  },
  {
   "cell_type": "code",
   "execution_count": 0,
   "metadata": {
    "colab": {},
    "colab_type": "code",
    "id": "vYQRXHkAmG5u"
   },
   "outputs": [],
   "source": [
    "def batchify(data):\n",
    "    max_len = max([len(context) + len(neg) for _, context, neg in data])\n",
    "    centers = []\n",
    "    contexts_negatives = []\n",
    "    masks = []\n",
    "    labels = []\n",
    "    for center, context, negative in data:\n",
    "        cur_len = len(context) + len(negative)\n",
    "        contexts_negatives.append(context + negative + [0] * (max_len - cur_len))\n",
    "        centers.append(center)\n",
    "        masks.append([1] * cur_len + [0] * (max_len - cur_len))\n",
    "        labels.append([1] * len(context) + [0] * (max_len - len(context)))\n",
    "    return (torch.tensor(centers).view(-1, 1), torch.tensor(contexts_negatives),\n",
    "            torch.tensor(masks), torch.tensor(labels))"
   ]
  },
  {
   "cell_type": "markdown",
   "metadata": {
    "colab_type": "text",
    "id": "93finy1BplnA"
   },
   "source": [
    "利用DataLoader批量读取数据："
   ]
  },
  {
   "cell_type": "code",
   "execution_count": 78,
   "metadata": {
    "colab": {
     "base_uri": "https://localhost:8080/",
     "height": 86
    },
    "colab_type": "code",
    "id": "ubqGY6YUpptV",
    "outputId": "d955b217-cc51-44e4-eace-a63e3c3780b0"
   },
   "outputs": [
    {
     "name": "stdout",
     "output_type": "stream",
     "text": [
      "centers word shape: torch.Size([512, 1])\n",
      "context_negatives word shape: torch.Size([512, 60])\n",
      "masks word shape: torch.Size([512, 60])\n",
      "labels word shape: torch.Size([512, 60])\n"
     ]
    }
   ],
   "source": [
    "batch_size = 512\n",
    "data = MyDataset(all_centers, all_contexts, all_negatives)\n",
    "data_iter = torch.utils.data.DataLoader(data, batch_size=batch_size, shuffle=True,\n",
    "                                        collate_fn=batchify)\n",
    "for batch in data_iter:\n",
    "    for name, data in zip([\"centers\", \"context_negatives\", \"masks\", \"labels\"], batch):\n",
    "        print(f\"{name} word shape: {data.shape}\")\n",
    "    break"
   ]
  },
  {
   "cell_type": "markdown",
   "metadata": {
    "colab_type": "text",
    "id": "KonHt9h4rqvS"
   },
   "source": [
    "# SkipGram模型前向传播"
   ]
  },
  {
   "cell_type": "code",
   "execution_count": 0,
   "metadata": {
    "colab": {},
    "colab_type": "code",
    "id": "sXhyQ6gmtA7C"
   },
   "outputs": [],
   "source": [
    "def skipGram(center, context_negative, embed_v, embed_u):\n",
    "    v = embed_v(center) # [batch_size, embed_size]\n",
    "    u = embed_u(context_negative) # [batch_size, seq_len, embed_size]\n",
    "    pred = torch.bmm(v, u.permute(0, 2, 1)) # [batch_size, 1, seq_len]\n",
    "    return pred"
   ]
  },
  {
   "cell_type": "markdown",
   "metadata": {
    "colab_type": "text",
    "id": "P8HtyxqErtj2"
   },
   "source": [
    "Loss function："
   ]
  },
  {
   "cell_type": "code",
   "execution_count": 0,
   "metadata": {
    "colab": {},
    "colab_type": "code",
    "id": "Zpjl-0YfvXcd"
   },
   "outputs": [],
   "source": [
    "class CrossEntropyLoss(nn.Module):\n",
    "    def __init__(self):\n",
    "        super(CrossEntropyLoss, self).__init__()\n",
    "    \n",
    "    def forward(self, pred, labels, mask=None):\n",
    "        pred = pred.float()\n",
    "        labels = labels.float()\n",
    "        mask = mask.float()\n",
    "        loss = nn.functional.binary_cross_entropy_with_logits(pred, labels, weight=mask,\n",
    "                                                              reduction='none')\n",
    "        return loss.mean(dim=1)\n",
    "    \n",
    "Loss = CrossEntropyLoss()"
   ]
  },
  {
   "cell_type": "code",
   "execution_count": 81,
   "metadata": {
    "colab": {
     "base_uri": "https://localhost:8080/",
     "height": 52
    },
    "colab_type": "code",
    "id": "PfSnRrd31Ouo",
    "outputId": "82312453-a994-4f85-e55e-14e55c9f84c4"
   },
   "outputs": [
    {
     "data": {
      "text/plain": [
       "tensor([[0.2014, 0.8544, 0.3133, 2.1269],\n",
       "        [0.2873, 1.0375, 2.3051, 0.0000]])"
      ]
     },
     "execution_count": 81,
     "metadata": {
      "tags": []
     },
     "output_type": "execute_result"
    }
   ],
   "source": [
    "pred = torch.tensor([[1.5, 0.3, -1, 2], [1.1, -0.6, 2.2, 0.4]]).float()\n",
    "label = torch.tensor([[1, 0, 0, 0], [1, 1, 0, 0]]).float()\n",
    "mask = torch.tensor([[1, 1, 1, 1], [1, 1, 1, 0]]).float()\n",
    "loss = nn.functional.binary_cross_entropy_with_logits(pred, label, weight=mask, reduction='none')\n",
    "loss"
   ]
  },
  {
   "cell_type": "code",
   "execution_count": 82,
   "metadata": {
    "colab": {
     "base_uri": "https://localhost:8080/",
     "height": 35
    },
    "colab_type": "code",
    "id": "2B0J4zCU1ujQ",
    "outputId": "15f339c6-6a8a-46ca-a033-c06280933466"
   },
   "outputs": [
    {
     "data": {
      "text/plain": [
       "tensor([0.8740, 1.2100])"
      ]
     },
     "execution_count": 82,
     "metadata": {
      "tags": []
     },
     "output_type": "execute_result"
    }
   ],
   "source": [
    "loss.sum(dim=-1)/mask.sum(dim=1)"
   ]
  },
  {
   "cell_type": "markdown",
   "metadata": {
    "colab_type": "text",
    "id": "Rsdzv8KqwoKe"
   },
   "source": [
    "Model Initialization:"
   ]
  },
  {
   "cell_type": "code",
   "execution_count": 0,
   "metadata": {
    "colab": {},
    "colab_type": "code",
    "id": "jc-wC9lQwp1I"
   },
   "outputs": [],
   "source": [
    "embed_size = 125\n",
    "net = nn.Sequential(\n",
    "    nn.Embedding(num_embeddings=len(idx_to_word), embedding_dim=embed_size),\n",
    "    nn.Embedding(num_embeddings=len(idx_to_word), embedding_dim=embed_size)\n",
    ")"
   ]
  },
  {
   "cell_type": "markdown",
   "metadata": {
    "colab_type": "text",
    "id": "g1b6BuAuxMJi"
   },
   "source": [
    "Training function:"
   ]
  },
  {
   "cell_type": "code",
   "execution_count": 0,
   "metadata": {
    "colab": {},
    "colab_type": "code",
    "id": "XCKkkr2hxNwp"
   },
   "outputs": [],
   "source": [
    "def train(net, lr, num_epochs):\n",
    "    device = torch.device('cuda' if torch.cuda.is_available() else 'cpu')\n",
    "    print(f\"train on {device}\")\n",
    "    net = net.to(device)\n",
    "    optimizer = torch.optim.Adam(net.parameters(), lr=lr)\n",
    "    loss_list = []\n",
    "    for epoch in range(num_epochs):\n",
    "        start = time.time()\n",
    "        Loss_sum = 0.\n",
    "        n = 0\n",
    "        for batch in data_iter:\n",
    "            center, context_negative, mask, label = [d.to(device) for d in batch]\n",
    "            pred = skipGram(center, context_negative, net[0], net[1])\n",
    "            loss = (Loss(pred.view(label.shape), label, mask).sum(dim=-1) / mask.sum(dim=-1)).mean() \n",
    "            optimizer.zero_grad()\n",
    "            loss.backward()\n",
    "            optimizer.step()\n",
    "            Loss_sum += loss.cpu().item()\n",
    "            n += 1\n",
    "        if (epoch + 1 ) % 10 == 0:\n",
    "            print(f\"epoch {epoch+1}/{num_epochs}, loss {Loss_sum/n:.2f}, time {time.time()-start:.2f}s.\")\n",
    "        loss_list.append(Loss_sum / n)\n",
    "    return loss_list"
   ]
  },
  {
   "cell_type": "code",
   "execution_count": 123,
   "metadata": {
    "colab": {
     "base_uri": "https://localhost:8080/",
     "height": 121
    },
    "colab_type": "code",
    "id": "WG98Pt1hFG1t",
    "outputId": "9b539746-75c0-4f8b-ad52-bce0ac2fe40f"
   },
   "outputs": [
    {
     "name": "stdout",
     "output_type": "stream",
     "text": [
      "train on cuda\n",
      "epoch 10/50, loss 3.76, time 5.90s.\n",
      "epoch 20/50, loss 3.37, time 5.87s.\n",
      "epoch 30/50, loss 3.25, time 5.54s.\n",
      "epoch 40/50, loss 3.19, time 5.50s.\n",
      "epoch 50/50, loss 3.16, time 5.80s.\n"
     ]
    }
   ],
   "source": [
    "import time\n",
    "loss_list = train(net, 0.01, 50)"
   ]
  },
  {
   "cell_type": "code",
   "execution_count": 127,
   "metadata": {
    "colab": {
     "base_uri": "https://localhost:8080/",
     "height": 350
    },
    "colab_type": "code",
    "id": "c0BpRrDsNsFs",
    "outputId": "49683b59-430c-41d4-bba6-aec8018bf3c1"
   },
   "outputs": [
    {
     "data": {
      "image/png": "[encoded data removed]",
      "text/plain": [
       "<Figure size 720x360 with 1 Axes>"
      ]
     },
     "metadata": {
      "tags": []
     },
     "output_type": "display_data"
    }
   ],
   "source": [
    "%matplotlib inline\n",
    "import matplotlib.pyplot as plt\n",
    "plt.figure(figsize=(10, 5))\n",
    "plt.plot(loss_list, marker='s')\n",
    "plt.xlabel('epoch')\n",
    "plt.ylabel('loss')\n",
    "plt.title('Word2Vec Skip-Gram Negative Sampling Model Training')\n",
    "plt.show()"
   ]
  },
  {
   "cell_type": "markdown",
   "metadata": {
    "colab_type": "text",
    "id": "4J_XOZIkJ8LN"
   },
   "source": [
    "# 相似词寻找"
   ]
  },
  {
   "cell_type": "markdown",
   "metadata": {
    "colab_type": "text",
    "id": "16DQqvGwKEXc"
   },
   "source": [
    "我们利用word2vec词向量来探究相似词。"
   ]
  },
  {
   "cell_type": "code",
   "execution_count": 0,
   "metadata": {
    "colab": {},
    "colab_type": "code",
    "id": "00aSkFehKDmV"
   },
   "outputs": [],
   "source": [
    "def get_similar_k(word, k, embed):\n",
    "    W = (embed[1].weight.data + embed[0].weight.data) * 0.5\n",
    "    x = W[word_to_idx[word]]\n",
    "    cos = torch.matmul(W, x) / (torch.sum(W * W, dim=-1) * torch.sum(x * x) + 1e-9).sqrt()\n",
    "    _, topk = torch.topk(cos, k=k+1)\n",
    "    topk = topk.cpu().numpy()\n",
    "    for i in topk[1:]:\n",
    "        print(f\"cosine similarity={cos[i]:.3f}: {idx_to_word[i]}.\")"
   ]
  },
  {
   "cell_type": "code",
   "execution_count": 131,
   "metadata": {
    "colab": {
     "base_uri": "https://localhost:8080/",
     "height": 86
    },
    "colab_type": "code",
    "id": "fS5mdvgKLAMz",
    "outputId": "6718e958-cfd3-49aa-f4ed-01ac316ff1ee"
   },
   "outputs": [
    {
     "name": "stdout",
     "output_type": "stream",
     "text": [
      "cosine similarity=0.411: her.\n",
      "cosine similarity=0.404: mother.\n",
      "cosine similarity=0.395: women.\n",
      "cosine similarity=0.388: pregnant.\n"
     ]
    }
   ],
   "source": [
    "get_similar_k('woman', 4, (net[0], net[1]))"
   ]
  }
 ],
 "metadata": {
  "accelerator": "GPU",
  "colab": {
   "collapsed_sections": [],
   "name": "SkipGramNS.ipynb",
   "provenance": []
  },
  "kernelspec": {
   "display_name": "Python 3",
   "language": "python",
   "name": "python3"
  },
  "language_info": {
   "codemirror_mode": {
    "name": "ipython",
    "version": 3
   },
   "file_extension": ".py",
   "mimetype": "text/x-python",
   "name": "python",
   "nbconvert_exporter": "python",
   "pygments_lexer": "ipython3",
   "version": "3.7.3"
  }
 },
 "nbformat": 4,
 "nbformat_minor": 1
}

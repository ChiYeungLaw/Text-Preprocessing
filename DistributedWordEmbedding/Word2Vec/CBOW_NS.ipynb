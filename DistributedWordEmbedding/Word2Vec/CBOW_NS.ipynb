{
 "cells": [
  {
   "cell_type": "markdown",
   "metadata": {
    "colab_type": "text",
    "id": "VpGHRyrAntQf"
   },
   "source": [
    "# 简介"
   ]
  },
  {
   "cell_type": "markdown",
   "metadata": {
    "colab_type": "text",
    "id": "PcDk5llfnvPo"
   },
   "source": [
    "本实验将利用Pytorch实现Word2Vec的CBOW+Negative Sampling模型，利用context word预测center word。"
   ]
  },
  {
   "cell_type": "markdown",
   "metadata": {
    "colab_type": "text",
    "id": "iMTYiHKxoB5B"
   },
   "source": [
    "# 数据的载入"
   ]
  },
  {
   "cell_type": "markdown",
   "metadata": {
    "colab_type": "text",
    "id": "uQ6aFU2koD--"
   },
   "source": [
    "在本实验中将利用Penn Tree Bank语料库的文本训练数据`ptb.train.txt`进行词向量的训练。因为本实验是通过Colab进行的，所以需要首先从Colab中读取所需的数据："
   ]
  },
  {
   "cell_type": "code",
   "execution_count": 1,
   "metadata": {
    "colab": {
     "base_uri": "https://localhost:8080/",
     "height": 124
    },
    "colab_type": "code",
    "id": "6szDVCQpjSQ8",
    "outputId": "e56a28da-7ee7-44fa-a05f-d65938c1b532"
   },
   "outputs": [
    {
     "name": "stdout",
     "output_type": "stream",
     "text": [
      "Go to this URL in a browser: https://accounts.google.com/o/oauth2/auth?client_id=947318989803-6bn6qk8qdgf4n4g3pfee6491hc0brc4i.apps.googleusercontent.com&redirect_uri=urn%3aietf%3awg%3aoauth%3a2.0%3aoob&response_type=code&scope=email%20https%3a%2f%2fwww.googleapis.com%2fauth%2fdocs.test%20https%3a%2f%2fwww.googleapis.com%2fauth%2fdrive%20https%3a%2f%2fwww.googleapis.com%2fauth%2fdrive.photos.readonly%20https%3a%2f%2fwww.googleapis.com%2fauth%2fpeopleapi.readonly\n",
      "\n",
      "Enter your authorization code:\n",
      "··········\n",
      "Mounted at /content/drive\n"
     ]
    }
   ],
   "source": [
    "from google.colab import drive\n",
    "drive.mount('/content/drive')"
   ]
  },
  {
   "cell_type": "code",
   "execution_count": 2,
   "metadata": {
    "colab": {
     "base_uri": "https://localhost:8080/",
     "height": 86
    },
    "colab_type": "code",
    "id": "UW7fyjk5o_Kb",
    "outputId": "9d79fb8f-8f00-4c37-ed4d-b86e6047ab87"
   },
   "outputs": [
    {
     "name": "stdout",
     "output_type": "stream",
     "text": [
      " 2238322.gdoc\t   'Modern Family s01e01 Episode Script | SS.gdoc'\n",
      " 2238322.pdf\t   'Modern Family s01e01 Episode Script | SS.pdf'\n",
      "'Colab Notebooks'   ptb.train.txt\n",
      " fractal.mp4\t    WechatIMG7.jpeg\n"
     ]
    }
   ],
   "source": [
    "import os\n",
    "path = \"/content/drive/My Drive\"\n",
    "os.chdir(path)\n",
    "!ls"
   ]
  },
  {
   "cell_type": "code",
   "execution_count": 3,
   "metadata": {
    "colab": {
     "base_uri": "https://localhost:8080/",
     "height": 35
    },
    "colab_type": "code",
    "id": "oJySqloSpMse",
    "outputId": "758a2534-0fa1-4201-c201-1f0bc169aaf6"
   },
   "outputs": [
    {
     "name": "stdout",
     "output_type": "stream",
     "text": [
      "The number of lines is 42068.\n"
     ]
    }
   ],
   "source": [
    "with open(\"ptb.train.txt\", encoding=\"utf-8\") as f:\n",
    "    lines = f.readlines()\n",
    "print(f\"The number of lines is {len(lines)}.\")"
   ]
  },
  {
   "cell_type": "markdown",
   "metadata": {
    "colab_type": "text",
    "id": "HrY49hSKpZHv"
   },
   "source": [
    "我们可以看到该文本数据具有4万多行。"
   ]
  },
  {
   "cell_type": "markdown",
   "metadata": {
    "colab_type": "text",
    "id": "Bn1tpCOppjNs"
   },
   "source": [
    "# 数据的读取"
   ]
  },
  {
   "cell_type": "markdown",
   "metadata": {
    "colab_type": "text",
    "id": "_cdfZOJqpk3I"
   },
   "source": [
    "我们需要利用空格对每行文本进行分词，并统计词频，把词频低于5的低频词从词典中删去。"
   ]
  },
  {
   "cell_type": "markdown",
   "metadata": {
    "colab_type": "text",
    "id": "BxB5FIeYqh90"
   },
   "source": [
    "首先进行粗分词："
   ]
  },
  {
   "cell_type": "code",
   "execution_count": 0,
   "metadata": {
    "colab": {},
    "colab_type": "code",
    "id": "0dRD8-TxpiEV"
   },
   "outputs": [],
   "source": [
    "raw_datasets = [line.split() for line in lines]"
   ]
  },
  {
   "cell_type": "markdown",
   "metadata": {
    "colab_type": "text",
    "id": "IVJI2ZA6q6Jc"
   },
   "source": [
    "结果："
   ]
  },
  {
   "cell_type": "code",
   "execution_count": 5,
   "metadata": {
    "colab": {
     "base_uri": "https://localhost:8080/",
     "height": 173
    },
    "colab_type": "code",
    "id": "9R40iYH2q8QV",
    "outputId": "1c789f99-9e78-4fee-93e2-1c7373a3f309"
   },
   "outputs": [
    {
     "name": "stdout",
     "output_type": "stream",
     "text": [
      "The first 6 words of the 1 line of raw datasets is \n",
      "['aer', 'banknote', 'berlitz', 'calloway', 'centrust', 'cluett'].\n",
      "\n",
      "The first 6 words of the 2 line of raw datasets is \n",
      "['pierre', '<unk>', 'N', 'years', 'old', 'will'].\n",
      "\n",
      "The first 6 words of the 3 line of raw datasets is \n",
      "['mr.', '<unk>', 'is', 'chairman', 'of', '<unk>'].\n",
      "\n"
     ]
    }
   ],
   "source": [
    "for i in range(3):\n",
    "    print(f\"The first 6 words of the {i+1} line of raw datasets is \\n{raw_datasets[i][:6]}.\\n\")"
   ]
  },
  {
   "cell_type": "markdown",
   "metadata": {
    "colab_type": "text",
    "id": "gaLz4MBRs3nk"
   },
   "source": [
    "由上面显示的结果，我们可以看到对于生僻词，文本中用`<unk>`表示，对于数字，文本用`N`表示。"
   ]
  },
  {
   "cell_type": "markdown",
   "metadata": {
    "colab_type": "text",
    "id": "QWeYYiHktSEI"
   },
   "source": [
    "接下来我们进行词频统计与删低频词："
   ]
  },
  {
   "cell_type": "code",
   "execution_count": 0,
   "metadata": {
    "colab": {},
    "colab_type": "code",
    "id": "6paiO4O8tV8K"
   },
   "outputs": [],
   "source": [
    "from collections import Counter\n",
    "\n",
    "counter = Counter([word for line in raw_datasets for word in line])\n",
    "counter = dict(filter(lambda x: x[1] > 5, counter.items()))"
   ]
  },
  {
   "cell_type": "markdown",
   "metadata": {
    "colab_type": "text",
    "id": "ZN6RwnGPwcVa"
   },
   "source": [
    "进行完词频统计后，我们要建议word和index之间的转换索引："
   ]
  },
  {
   "cell_type": "code",
   "execution_count": 0,
   "metadata": {
    "colab": {},
    "colab_type": "code",
    "id": "VW1Z2Nhmwkd6"
   },
   "outputs": [],
   "source": [
    "idx_to_word = [word for word, _ in counter.items()]\n",
    "word_to_idx = {word: idx for idx, word in enumerate(idx_to_word)}"
   ]
  },
  {
   "cell_type": "markdown",
   "metadata": {
    "colab_type": "text",
    "id": "JjeMoaj7xJDV"
   },
   "source": [
    "结果："
   ]
  },
  {
   "cell_type": "code",
   "execution_count": 8,
   "metadata": {
    "colab": {
     "base_uri": "https://localhost:8080/",
     "height": 52
    },
    "colab_type": "code",
    "id": "XzmkxqNFxKis",
    "outputId": "8411af18-9b84-4e26-8175-15466f253a70"
   },
   "outputs": [
    {
     "name": "stdout",
     "output_type": "stream",
     "text": [
      "The index of word 'car' is 3786.\n",
      "The word of index 3786 is car.\n"
     ]
    }
   ],
   "source": [
    "index = word_to_idx['car']\n",
    "print(f\"The index of word 'car' is {word_to_idx['car']}.\")\n",
    "print(f\"The word of index {index} is {idx_to_word[index]}.\")"
   ]
  },
  {
   "cell_type": "markdown",
   "metadata": {
    "colab_type": "text",
    "id": "rRdGg6ORxloh"
   },
   "source": [
    " 然后我们可以通过词典来更新我们的文本数据集："
   ]
  },
  {
   "cell_type": "code",
   "execution_count": 0,
   "metadata": {
    "colab": {},
    "colab_type": "code",
    "id": "9y-6DGRWxsyN"
   },
   "outputs": [],
   "source": [
    "datasets = [[word_to_idx[word] for word in line if word in word_to_idx] for line in raw_datasets]\n",
    "num_words = sum([len(line) for line in datasets])"
   ]
  },
  {
   "cell_type": "markdown",
   "metadata": {
    "colab_type": "text",
    "id": "R_bBoWfMyAmn"
   },
   "source": [
    "结果："
   ]
  },
  {
   "cell_type": "code",
   "execution_count": 10,
   "metadata": {
    "colab": {
     "base_uri": "https://localhost:8080/",
     "height": 35
    },
    "colab_type": "code",
    "id": "zQE6rD-NyBgC",
    "outputId": "62b656cf-bb60-4901-c4d7-2bf450fbbdd5"
   },
   "outputs": [
    {
     "data": {
      "text/plain": [
       "[14, 1, 15, 16, 17, 1, 18, 7, 19, 20, 21]"
      ]
     },
     "execution_count": 10,
     "metadata": {
      "tags": []
     },
     "output_type": "execute_result"
    }
   ],
   "source": [
    "datasets[2]"
   ]
  },
  {
   "cell_type": "markdown",
   "metadata": {
    "colab_type": "text",
    "id": "V2C5TBvCyOrU"
   },
   "source": [
    "#二次采样"
   ]
  },
  {
   "cell_type": "markdown",
   "metadata": {
    "colab_type": "text",
    "id": "VMECLQiyyQ6a"
   },
   "source": [
    "我们要进行二次采样，在文本数据集中，一些高频词往往没有低频词来得重要，譬如`'the'`，我们这时可以根据词频，以一定的概率丢到部分的词，来减少高频词的词频，同时时低频词的词频变化不大，对应的丢弃概率计算公式为：\n",
    "$$\n",
    "P(w_i)=\\max\\left(1-\\sqrt{\\frac{t}{f(w_i)}},0\\right),\n",
    "$$\n",
    "其中$t=10^{-4}$。"
   ]
  },
  {
   "cell_type": "code",
   "execution_count": 0,
   "metadata": {
    "colab": {},
    "colab_type": "code",
    "id": "xFSvGX8Ey_ns"
   },
   "outputs": [],
   "source": [
    "import random\n",
    "import math\n",
    "\n",
    "def throw(idx):\n",
    "    return random.uniform(0, 1) < (1 - math.sqrt(1e-4 / counter[idx_to_word[idx]] * num_words))\n",
    "\n",
    "subsampling = [[idx for idx in line if not throw(idx)] for line in datasets]\n",
    "new_num_words = sum([len(line) for line in subsampling])"
   ]
  },
  {
   "cell_type": "code",
   "execution_count": 12,
   "metadata": {
    "colab": {
     "base_uri": "https://localhost:8080/",
     "height": 52
    },
    "colab_type": "code",
    "id": "xiuy-Boy4YND",
    "outputId": "cf29c8ff-a624-4cf9-ec14-e6b43e0ae4bf"
   },
   "outputs": [
    {
     "name": "stdout",
     "output_type": "stream",
     "text": [
      "Before subsamping, the number of words in the dataset is 885720.\n",
      "After subsamping, the number of words in the new dataset is 374298.\n"
     ]
    }
   ],
   "source": [
    "print(f\"Before subsamping, the number of words in the dataset is {num_words}.\")\n",
    "print(f\"After subsamping, the number of words in the new dataset is {new_num_words}.\")"
   ]
  },
  {
   "cell_type": "markdown",
   "metadata": {
    "colab_type": "text",
    "id": "Cep3uWhT5pv6"
   },
   "source": [
    "这时我们要更新词频统计Counter："
   ]
  },
  {
   "cell_type": "code",
   "execution_count": 0,
   "metadata": {
    "colab": {},
    "colab_type": "code",
    "id": "zX3Jom2r53eW"
   },
   "outputs": [],
   "source": [
    "counter = Counter([idx for line in subsampling for idx in line])"
   ]
  },
  {
   "cell_type": "markdown",
   "metadata": {
    "colab_type": "text",
    "id": "-1eTmtrR69VC"
   },
   "source": [
    "# 提取context word和center word"
   ]
  },
  {
   "cell_type": "markdown",
   "metadata": {
    "colab_type": "text",
    "id": "RY8VMwGR7a4y"
   },
   "source": [
    "每次在整数1和`max_window_size`中随机选取一个整数作为背景窗口的大小。"
   ]
  },
  {
   "cell_type": "code",
   "execution_count": 0,
   "metadata": {
    "colab": {},
    "colab_type": "code",
    "id": "XWZrAsxE8W6x"
   },
   "outputs": [],
   "source": [
    "def get_center_context(data, max_window_size=5):\n",
    "    all_centers = []\n",
    "    all_contexts = []\n",
    "    for line in data:\n",
    "        if len(line) < 2:\n",
    "            continue\n",
    "        all_centers += [[word] for word in line]\n",
    "        for index in range(len(line)):\n",
    "            window_size = random.randint(1, max_window_size)\n",
    "            indices = list(range(max(0, index-window_size), min(len(line), index+window_size+1)))\n",
    "            indices.remove(index)\n",
    "            all_contexts.append([line[idx] for idx in indices])\n",
    "    return all_centers, all_contexts\n"
   ]
  },
  {
   "cell_type": "markdown",
   "metadata": {
    "colab_type": "text",
    "id": "sybC2LO491WF"
   },
   "source": [
    "我们可以用一些toy data去测试一下这个函数的有效性："
   ]
  },
  {
   "cell_type": "code",
   "execution_count": 15,
   "metadata": {
    "colab": {
     "base_uri": "https://localhost:8080/",
     "height": 207
    },
    "colab_type": "code",
    "id": "slvsMRYN965P",
    "outputId": "baddf15d-aece-421f-9188-8caeb910c5f0"
   },
   "outputs": [
    {
     "name": "stdout",
     "output_type": "stream",
     "text": [
      "Center: [0] -> Context: [1, 2]\n",
      "Center: [1] -> Context: [0, 2, 3]\n",
      "Center: [2] -> Context: [0, 1, 3, 4]\n",
      "Center: [3] -> Context: [1, 2, 4, 5]\n",
      "Center: [4] -> Context: [3, 5]\n",
      "Center: [5] -> Context: [3, 4, 6, 7]\n",
      "Center: [6] -> Context: [5, 7]\n",
      "Center: [7] -> Context: [5, 6]\n",
      "Center: [8] -> Context: [9]\n",
      "Center: [9] -> Context: [8, 10]\n",
      "Center: [10] -> Context: [8, 9]\n"
     ]
    }
   ],
   "source": [
    "toy_data = [list(range(8)), [8, 9, 10]]\n",
    "all_centers, all_contexts = get_center_context(toy_data, 2)\n",
    "for center, context in zip(all_centers, all_contexts):\n",
    "    print(f\"Center: {center} -> Context: {context}\")"
   ]
  },
  {
   "cell_type": "markdown",
   "metadata": {
    "colab_type": "text",
    "id": "ydf8G5uC-jus"
   },
   "source": [
    "由上我们可以得到该函数的有效性，我们现在要用该函数去提取对应的context words和center words："
   ]
  },
  {
   "cell_type": "code",
   "execution_count": 0,
   "metadata": {
    "colab": {},
    "colab_type": "code",
    "id": "-AzMyxra-rud"
   },
   "outputs": [],
   "source": [
    "all_centers, all_contexts = get_center_context(subsampling, 5)"
   ]
  },
  {
   "cell_type": "markdown",
   "metadata": {
    "colab_type": "text",
    "id": "QNddym3P-2Or"
   },
   "source": [
    "# 负采样"
   ]
  },
  {
   "cell_type": "markdown",
   "metadata": {
    "colab_type": "text",
    "id": "FcAzAptB-6tt"
   },
   "source": [
    "因为我们的模型是CBOW模型，则要求对center word进行负采样，对每个center word采样$K=4$个noise word："
   ]
  },
  {
   "cell_type": "code",
   "execution_count": 0,
   "metadata": {
    "colab": {},
    "colab_type": "code",
    "id": "_LDsGHFs_H5R"
   },
   "outputs": [],
   "source": [
    "def get_negatives(all_centers, K, sampling_weights):\n",
    "    population = list(range(len(sampling_weights)))\n",
    "    all_negatives = []\n",
    "    neg_candidate = []\n",
    "    i = 0\n",
    "    for word in all_centers:\n",
    "        negatives = []\n",
    "        while len(negatives) < K:\n",
    "            if i == len(neg_candidate):\n",
    "                neg_candidate = random.choices(population, sampling_weights, k=int(1e5))\n",
    "                i = 0\n",
    "            if neg_candidate[i] != word[0]:\n",
    "                negatives.append(neg_candidate[i])\n",
    "            i += 1\n",
    "        all_negatives.append(negatives)\n",
    "    return all_negatives\n",
    "\n",
    "sampling_weights = [counter[idx] ** 0.75 for idx in counter]\n",
    "all_negatives = get_negatives(all_centers, 4, sampling_weights)"
   ]
  },
  {
   "cell_type": "markdown",
   "metadata": {
    "colab_type": "text",
    "id": "ZHe9dj3TBO1H"
   },
   "source": [
    "#  数据读取"
   ]
  },
  {
   "cell_type": "markdown",
   "metadata": {
    "colab_type": "text",
    "id": "GS_hdyaMBR1b"
   },
   "source": [
    "这时候我们需要利用Pytorch的DataLoader去读取我们的`all_centers`，`all_contexts`和，`all_negatives`："
   ]
  },
  {
   "cell_type": "code",
   "execution_count": 0,
   "metadata": {
    "colab": {},
    "colab_type": "code",
    "id": "jLz3BfTdB17F"
   },
   "outputs": [],
   "source": [
    "import torch\n",
    "import torch.nn as nn\n",
    "\n",
    "class MyDataset(torch.utils.data.Dataset):\n",
    "    def __init__(self, centers, contexts, negatives):\n",
    "        assert len(centers) == len(contexts) == len(negatives)\n",
    "        self.centers = centers\n",
    "        self.contexts = contexts\n",
    "        self.negatives = negatives\n",
    "    \n",
    "    def __getitem__(self, index):\n",
    "        return (self.centers[index], self.contexts[index], self.negatives[index])\n",
    "    \n",
    "    def __len__(self):\n",
    "        return len(self.centers)"
   ]
  },
  {
   "cell_type": "markdown",
   "metadata": {
    "colab_type": "text",
    "id": "3ayJiDnMDL-k"
   },
   "source": [
    " 在CBOW模型中，我们要把center word和negatives word链接在一起，与SkipGram不一样，每一个pair的长度都是一样的，不用补长，同时我们需要一个label向量，标记出哪个是正例，哪个是负例。"
   ]
  },
  {
   "cell_type": "code",
   "execution_count": 0,
   "metadata": {
    "colab": {},
    "colab_type": "code",
    "id": "AtDGifXWGGGE"
   },
   "outputs": [],
   "source": [
    "def batchify(data):\n",
    "    contexts = []\n",
    "    center_negative = []\n",
    "    labels = []\n",
    "    masks = []\n",
    "    max_len = max([len(context) for _, context, _ in data])\n",
    "    for center, context, negative in data:\n",
    "        center_negative += [center + negative]\n",
    "        labels += [[1] * len(center) + [0] * len(negative)]\n",
    "        contexts += [context + [len(idx_to_word)] * (max_len - len(context))]\n",
    "        masks += [[1] * len(context) + [0] * (max_len - len(context))]\n",
    "    return (torch.tensor(contexts), torch.tensor(center_negative),\n",
    "            torch.tensor(labels), torch.tensor(masks))"
   ]
  },
  {
   "cell_type": "code",
   "execution_count": 23,
   "metadata": {
    "colab": {
     "base_uri": "https://localhost:8080/",
     "height": 86
    },
    "colab_type": "code",
    "id": "FdElDouVMJ27",
    "outputId": "4b5507c9-00a3-4113-f78c-222ee358d022"
   },
   "outputs": [
    {
     "name": "stdout",
     "output_type": "stream",
     "text": [
      "contexts shape: torch.Size([512, 10])\n",
      "center_negative shape: torch.Size([512, 5])\n",
      "labels shape: torch.Size([512, 5])\n",
      "masks shape: torch.Size([512, 10])\n"
     ]
    }
   ],
   "source": [
    "batch_size = 512\n",
    "data = MyDataset(all_centers, all_contexts, all_negatives)\n",
    "data_iter = torch.utils.data.DataLoader(data, batch_size=batch_size,\n",
    "                                        shuffle=True, collate_fn=batchify)\n",
    "for batch in data_iter:\n",
    "    for name, data in zip(['contexts', 'center_negative', 'labels', 'masks'], batch):\n",
    "        print(name, 'shape:', data.shape)\n",
    "    break"
   ]
  },
  {
   "cell_type": "markdown",
   "metadata": {
    "colab_type": "text",
    "id": "idR4870GtoNi"
   },
   "source": [
    "# CBOW model"
   ]
  },
  {
   "cell_type": "code",
   "execution_count": 0,
   "metadata": {
    "colab": {},
    "colab_type": "code",
    "id": "i87ZYKcwQ9gz"
   },
   "outputs": [],
   "source": [
    "def CBOW(contexts, center_negative, masks, embed_v, embed_u):\n",
    "    v = embed_v(contexts).sum(dim=1) /  masks.sum(dim=-1).view(-1, 1) # [batch_size, embed_size]\n",
    "    u = embed_u(center_negative) # [batch_size, c_ne_seq, embed_size]\n",
    "    pred = torch.bmm(v[:, None, :], u.permute(0, 2, 1)) # [batch_size, c_ne_seq]\n",
    "    return pred"
   ]
  },
  {
   "cell_type": "markdown",
   "metadata": {
    "colab_type": "text",
    "id": "UjESIhFuv-Id"
   },
   "source": [
    "Loss function:"
   ]
  },
  {
   "cell_type": "code",
   "execution_count": 0,
   "metadata": {
    "colab": {},
    "colab_type": "code",
    "id": "3f1L-ODtv9Rm"
   },
   "outputs": [],
   "source": [
    "class SigmoidBinaryCrossEntropyLoss(nn.Module):\n",
    "    def __init__(self):\n",
    "        super(SigmoidBinaryCrossEntropyLoss, self).__init__()\n",
    "    \n",
    "    def forward(self, inputs, targets):\n",
    "        inputs = inputs.float()\n",
    "        targets = targets.float()\n",
    "        loss = nn.functional.binary_cross_entropy_with_logits(inputs, targets, reduction=\"none\")\n",
    "        return loss.mean(dim=1)\n",
    "\n",
    "criterion = SigmoidBinaryCrossEntropyLoss()"
   ]
  },
  {
   "cell_type": "code",
   "execution_count": 36,
   "metadata": {
    "colab": {
     "base_uri": "https://localhost:8080/",
     "height": 35
    },
    "colab_type": "code",
    "id": "0gwzpAUczYy1",
    "outputId": "8004f8f4-58e9-46d2-fa51-b3e682e64fe8"
   },
   "outputs": [
    {
     "data": {
      "text/plain": [
       "tensor(0.9299)"
      ]
     },
     "execution_count": 36,
     "metadata": {
      "tags": []
     },
     "output_type": "execute_result"
    }
   ],
   "source": [
    "pred = torch.tensor([[1.5, 0.3, -1, 2], [1.1, -0.6, 2.2, 0.4]]).float()\n",
    "label = torch.tensor([[1, 0, 0, 0], [1, 0, 0, 0]]).float()\n",
    "criterion(pred, label).mean()"
   ]
  },
  {
   "cell_type": "markdown",
   "metadata": {
    "colab_type": "text",
    "id": "qFPvg4aNw6BY"
   },
   "source": [
    "# 初始化模型参数"
   ]
  },
  {
   "cell_type": "code",
   "execution_count": 0,
   "metadata": {
    "colab": {},
    "colab_type": "code",
    "id": "8G5Nc3Ekw736"
   },
   "outputs": [],
   "source": [
    "embed_size = 100\n",
    "net = nn.Sequential(\n",
    "    nn.Embedding(len(idx_to_word) + 1, embed_size),\n",
    "    nn.Embedding(len(idx_to_word), embed_size)\n",
    ")\n",
    "net[0].weight.data[-1] = 0"
   ]
  },
  {
   "cell_type": "markdown",
   "metadata": {
    "colab_type": "text",
    "id": "Gsof0vqHw105"
   },
   "source": [
    "训练函数"
   ]
  },
  {
   "cell_type": "code",
   "execution_count": 0,
   "metadata": {
    "colab": {},
    "colab_type": "code",
    "id": "o8wo6vPyw3es"
   },
   "outputs": [],
   "source": [
    "import time\n",
    "\n",
    "def train(net, lr, num_epochs):\n",
    "    device = torch.device(\"cuda\" if torch.cuda.is_available() else \"cpu\")\n",
    "    print(f\"torch on {device}\")\n",
    "    net = net.to(device)\n",
    "    optimizer = torch.optim.Adam(net.parameters(), lr=lr)\n",
    "    loss_list = []\n",
    "    for epoch in range(num_epochs):\n",
    "        start, loss_sum, n = time.time(), 0., 0\n",
    "        for batch in data_iter:\n",
    "            contexts, center_negative, labels, masks = [d.to(device) for d in batch]\n",
    "            pred = CBOW(contexts, center_negative, masks, net[0], net[1])\n",
    "            loss = criterion(pred.view(labels.shape), labels).mean()\n",
    "            loss_sum += loss.item()\n",
    "            optimizer.zero_grad()\n",
    "            loss.backward()\n",
    "            optimizer.step()\n",
    "            net[0].weight.data[-1] = 0\n",
    "            n += 1\n",
    "        if (epoch + 1) % 5 == 0:\n",
    "            print(f\"Epoch: {epoch+1}/{num_epochs}, Loss: {loss_sum/n:.3f}, Time: {time.time()-start:.2f}s\")\n",
    "        loss_list.append(loss_sum/n)\n",
    "    return loss_list"
   ]
  },
  {
   "cell_type": "code",
   "execution_count": 87,
   "metadata": {
    "colab": {
     "base_uri": "https://localhost:8080/",
     "height": 138
    },
    "colab_type": "code",
    "id": "oNmBX_ck0PPD",
    "outputId": "b42b2cd5-614c-447f-ee11-ecb7a2f086ca"
   },
   "outputs": [
    {
     "name": "stdout",
     "output_type": "stream",
     "text": [
      "torch on cuda\n",
      "Epoch: 5/30, Loss: 0.165, Time: 3.73s\n",
      "Epoch: 10/30, Loss: 0.042, Time: 3.43s\n",
      "Epoch: 15/30, Loss: 0.012, Time: 3.82s\n",
      "Epoch: 20/30, Loss: 0.008, Time: 3.97s\n",
      "Epoch: 25/30, Loss: 0.004, Time: 3.59s\n",
      "Epoch: 30/30, Loss: 0.006, Time: 3.65s\n"
     ]
    }
   ],
   "source": [
    "loss_list = train(net, 0.01, 30)"
   ]
  },
  {
   "cell_type": "code",
   "execution_count": 88,
   "metadata": {
    "colab": {
     "base_uri": "https://localhost:8080/",
     "height": 350
    },
    "colab_type": "code",
    "id": "0VzmmoAQ43gA",
    "outputId": "a92fe2db-19c8-4184-b46a-8ee6a0d72cce"
   },
   "outputs": [
    {
     "data": {
      "image/png": "[encoded data removed]",
      "text/plain": [
       "<Figure size 720x360 with 1 Axes>"
      ]
     },
     "metadata": {
      "tags": []
     },
     "output_type": "display_data"
    }
   ],
   "source": [
    "%matplotlib inline\n",
    "import matplotlib.pyplot as plt\n",
    "plt.figure(figsize=(10, 5))\n",
    "plt.plot(loss_list, marker='s')\n",
    "plt.xlabel('epoch')\n",
    "plt.ylabel('loss')\n",
    "plt.title('Word2Vec CBOW Negative Sampling Model')\n",
    "plt.show()"
   ]
  },
  {
   "cell_type": "markdown",
   "metadata": {
    "colab_type": "text",
    "id": "bZ-88cZf2MRR"
   },
   "source": [
    "#应用词嵌入模型"
   ]
  },
  {
   "cell_type": "code",
   "execution_count": 0,
   "metadata": {
    "colab": {},
    "colab_type": "code",
    "id": "21tdjLeH2Lj0"
   },
   "outputs": [],
   "source": [
    "def get_similarity(word, k, embed):\n",
    "    W = (embed[0].weight.data[:-1] + embed[1].weight.data) * 0.5\n",
    "    x = W[word_to_idx[word]]\n",
    "    cos = torch.matmul(W, x) / (torch.sum(W * W, dim=-1) * torch.sum(x * x) + 1e-9).sqrt()\n",
    "    _, topk = torch.topk(cos, k+1)\n",
    "    for i in topk[1:]:\n",
    "        print(f\"cosine sim={cos[i]:.3f}: {idx_to_word[i]}.\")"
   ]
  },
  {
   "cell_type": "code",
   "execution_count": 83,
   "metadata": {
    "colab": {
     "base_uri": "https://localhost:8080/",
     "height": 86
    },
    "colab_type": "code",
    "id": "Ycx3hGnS3AoP",
    "outputId": "56f0a7a3-0974-4530-c505-869ce1a5b90f"
   },
   "outputs": [
    {
     "name": "stdout",
     "output_type": "stream",
     "text": [
      "cosine sim=0.426: husband.\n",
      "cosine sim=0.401: her.\n",
      "cosine sim=0.372: woman.\n",
      "cosine sim=0.349: respectable.\n"
     ]
    }
   ],
   "source": [
    "get_similarity(\"mother\", 4, (net[0], net[1]))"
   ]
  }
 ],
 "metadata": {
  "accelerator": "GPU",
  "colab": {
   "collapsed_sections": [],
   "name": "CBOW-NS.ipynb",
   "provenance": []
  },
  "kernelspec": {
   "display_name": "Python 3",
   "language": "python",
   "name": "python3"
  }
 },
 "nbformat": 4,
 "nbformat_minor": 1
}

{
  "nbformat": 4,
  "nbformat_minor": 0,
  "metadata": {
    "colab": {
      "name": "Pytorch实现Glove词向量模型.ipynb",
      "provenance": [],
      "collapsed_sections": []
    },
    "kernelspec": {
      "name": "python3",
      "display_name": "Python 3"
    },
    "accelerator": "GPU"
  },
  "cells": [
    {
      "cell_type": "markdown",
      "metadata": {
        "id": "cVePr4rBFMD_",
        "colab_type": "text"
      },
      "source": [
        "# 训练文本数据读取"
      ]
    },
    {
      "cell_type": "code",
      "metadata": {
        "id": "TZBqNmroFOQ5",
        "colab_type": "code",
        "colab": {
          "base_uri": "https://localhost:8080/",
          "height": 121
        },
        "outputId": "588b73f3-240a-4b2d-ba5b-84858130b94e"
      },
      "source": [
        "from google.colab import drive\n",
        "drive.mount(\"/content/drive/\")"
      ],
      "execution_count": 1,
      "outputs": [
        {
          "output_type": "stream",
          "text": [
            "Go to this URL in a browser: https://accounts.google.com/o/oauth2/auth?client_id=947318989803-6bn6qk8qdgf4n4g3pfee6491hc0brc4i.apps.googleusercontent.com&redirect_uri=urn%3aietf%3awg%3aoauth%3a2.0%3aoob&response_type=code&scope=email%20https%3a%2f%2fwww.googleapis.com%2fauth%2fdocs.test%20https%3a%2f%2fwww.googleapis.com%2fauth%2fdrive%20https%3a%2f%2fwww.googleapis.com%2fauth%2fdrive.photos.readonly%20https%3a%2f%2fwww.googleapis.com%2fauth%2fpeopleapi.readonly\n",
            "\n",
            "Enter your authorization code:\n",
            "··········\n",
            "Mounted at /content/drive/\n"
          ],
          "name": "stdout"
        }
      ]
    },
    {
      "cell_type": "code",
      "metadata": {
        "id": "jly_B6BKFnbw",
        "colab_type": "code",
        "colab": {
          "base_uri": "https://localhost:8080/",
          "height": 84
        },
        "outputId": "8d979947-d349-45a7-8029-0dfd3fd43605"
      },
      "source": [
        "import os\n",
        "path = \"/content/drive/My Drive\"\n",
        "os.chdir(path)\n",
        "!ls"
      ],
      "execution_count": 2,
      "outputs": [
        {
          "output_type": "stream",
          "text": [
            " 2238322.gdoc\t   'Modern Family s01e01 Episode Script | SS.gdoc'\n",
            " 2238322.pdf\t   'Modern Family s01e01 Episode Script | SS.pdf'\n",
            "'Colab Notebooks'   ptb.train.txt\n",
            " fractal.mp4\t    WechatIMG7.jpeg\n"
          ],
          "name": "stdout"
        }
      ]
    },
    {
      "cell_type": "code",
      "metadata": {
        "id": "eN1anL9KFvgc",
        "colab_type": "code",
        "colab": {}
      },
      "source": [
        "with open(\"ptb.train.txt\", encoding=\"utf8\") as f:\n",
        "    lines = f.readlines()"
      ],
      "execution_count": 0,
      "outputs": []
    },
    {
      "cell_type": "code",
      "metadata": {
        "id": "5_nR0hEiGCL3",
        "colab_type": "code",
        "colab": {}
      },
      "source": [
        "rawdata = [line.split() for line in lines]\n",
        "voc = list(set([word for line in rawdata for word in line]))"
      ],
      "execution_count": 0,
      "outputs": []
    },
    {
      "cell_type": "code",
      "metadata": {
        "id": "hpzlKO0AG2KQ",
        "colab_type": "code",
        "colab": {}
      },
      "source": [
        "word_to_idx = {word: idx for idx, word in enumerate(voc)}\n",
        "idx_to_word = voc\n",
        "idxdata = [[word_to_idx[word] for word in line] for line in rawdata]"
      ],
      "execution_count": 0,
      "outputs": []
    },
    {
      "cell_type": "markdown",
      "metadata": {
        "id": "hh0tCRWAHjO_",
        "colab_type": "text"
      },
      "source": [
        "# 构造共现矩阵"
      ]
    },
    {
      "cell_type": "code",
      "metadata": {
        "id": "JFg0VyE2Hqri",
        "colab_type": "code",
        "colab": {}
      },
      "source": [
        "import torch\n",
        "import numpy as np\n",
        "from collections import defaultdict, Counter\n",
        "\n",
        "class GloveDataset:\n",
        "    def __init__(self, text, window_size=5):\n",
        "        co_mat = defaultdict(Counter)\n",
        "        for line in text:\n",
        "            for i in range(len(line)):\n",
        "                for j in range(1, window_size+1):\n",
        "                    if i - j >= 0:\n",
        "                        co_mat[line[i]][line[i-j]] += 1.0/j\n",
        "                    if i + j < len(line):\n",
        "                        co_mat[line[i]][line[i+j]] += 1.0/j\n",
        "        self._i_idx = list()\n",
        "        self._j_idx = list()\n",
        "        self._xij = list()\n",
        "\n",
        "        for w, cnt in co_mat.items():\n",
        "            for c, v in cnt.items():\n",
        "                self._i_idx.append(w)\n",
        "                self._j_idx.append(c)\n",
        "                self._xij.append(v)\n",
        "        \n",
        "        self._i_idx = torch.tensor(self._i_idx)\n",
        "        self._j_idx = torch.tensor(self._j_idx)\n",
        "        self._xij = torch.tensor(self._xij)\n",
        "    \n",
        "    def get_batches(self, batch_size):\n",
        "        rand_ids = torch.tensor(np.random.choice(len(self._xij), len(self._xij), replace=False))\n",
        "        \n",
        "        for i in range(0, len(rand_ids), batch_size):\n",
        "            batch_ids = rand_ids[i:i+batch_size]\n",
        "            yield self._xij[batch_ids], self._i_idx[batch_ids], self._j_idx[batch_ids]\n",
        "\n",
        "dataset = GloveDataset(idxdata)"
      ],
      "execution_count": 0,
      "outputs": []
    },
    {
      "cell_type": "markdown",
      "metadata": {
        "id": "gqySCWy-KYjB",
        "colab_type": "text"
      },
      "source": [
        "# 构造Glove模型"
      ]
    },
    {
      "cell_type": "code",
      "metadata": {
        "id": "H-jLYN8rKCFt",
        "colab_type": "code",
        "colab": {}
      },
      "source": [
        "import torch\n",
        "import torch.nn as nn\n",
        "device = torch.device(\"cuda\" if torch.cuda.is_available() else \"cpu\")\n",
        "\n",
        "class Glove(nn.Module):\n",
        "    def __init__(self, voc_size, embed_size):\n",
        "        super(Glove, self).__init__()\n",
        "        self.W1 = nn.Embedding(voc_size, embed_size)\n",
        "        self.W2 = nn.Embedding(voc_size, embed_size)\n",
        "        self.b1 = nn.Embedding(voc_size, 1)\n",
        "        self.b2 = nn.Embedding(voc_size, 1)\n",
        "        torch.nn.init.xavier_normal_(self.W1.weight)\n",
        "        torch.nn.init.xavier_normal_(self.W2.weight)\n",
        "        torch.nn.init.xavier_normal_(self.b1.weight)\n",
        "        torch.nn.init.xavier_normal_(self.b2.weight)\n",
        "    \n",
        "    def forward(self, i_indices, j_indices):\n",
        "        w_i = self.W1(i_indices)\n",
        "        w_j = self.W2(j_indices)\n",
        "        b_i = self.b1(i_indices).squeeze()\n",
        "        b_j = self.b2(j_indices).squeeze()\n",
        "        return torch.sum(w_i * w_j, axis=-1) + b_i + b_j\n",
        "\n",
        "glove = Glove(voc_size=len(idx_to_word), embed_size=100).to(device)"
      ],
      "execution_count": 0,
      "outputs": []
    },
    {
      "cell_type": "markdown",
      "metadata": {
        "id": "e7JrzoGJHLqG",
        "colab_type": "text"
      },
      "source": [
        "# Weighted Mean Square Loss Function"
      ]
    },
    {
      "cell_type": "code",
      "metadata": {
        "id": "aQ7AiKajm0-Q",
        "colab_type": "code",
        "colab": {}
      },
      "source": [
        "class WeightedMSE(nn.Module):\n",
        "    def __init__(self, x_max, alpha):\n",
        "        super(WeightedMSE, self).__init__()\n",
        "        self.x_max = x_max\n",
        "        self.alpha = alpha\n",
        "    \n",
        "    def _weighted(self, x):\n",
        "        wx = (x / self.x_max) ** self.alpha\n",
        "        return torch.min(wx, torch.ones_like(wx))\n",
        "\n",
        "    def forward(self, inputs, targets):\n",
        "        loss = nn.functional.mse_loss(inputs, targets, reduction=\"none\")\n",
        "        weighted = self._weighted(targets)\n",
        "        loss = weighted * loss\n",
        "        return torch.mean(loss)\n",
        "\n",
        "criterion = WeightedMSE(x_max=100, alpha=0.75)"
      ],
      "execution_count": 0,
      "outputs": []
    },
    {
      "cell_type": "markdown",
      "metadata": {
        "id": "aY05qcvmeXGj",
        "colab_type": "text"
      },
      "source": [
        "# 模型训练"
      ]
    },
    {
      "cell_type": "code",
      "metadata": {
        "id": "9WmMkp9hHN3A",
        "colab_type": "code",
        "colab": {
          "base_uri": "https://localhost:8080/",
          "height": 185
        },
        "outputId": "89270e84-a9ae-4141-e04b-2d163bc207ea"
      },
      "source": [
        "import time\n",
        "\n",
        "learning_rate = 0.05\n",
        "num_epochs = 100\n",
        "batch_size = 64\n",
        "\n",
        "optimizer = torch.optim.Adagrad(glove.parameters(), lr=learning_rate)\n",
        "loss_list = []\n",
        "for epoch in range(num_epochs):\n",
        "    total_loss = 0.\n",
        "    start = time.time()\n",
        "    for targets, i_indices, j_indices in dataset.get_batches(batch_size):\n",
        "        targets = targets.to(device)\n",
        "        i_indices = i_indices.to(device)\n",
        "        j_indices = j_indices.to(device)\n",
        "        inputs = glove(i_indices, j_indices)\n",
        "        loss = criterion(inputs, torch.log(targets))\n",
        "        optimizer.zero_grad()\n",
        "        loss.backward()\n",
        "        optimizer.step()\n",
        "        total_loss += loss.data.item()\n",
        "    loss_list.append(total_loss/len(idx_to_word))\n",
        "    if (epoch+1) % 10 == 0:\n",
        "        print(f\"Epoch: {epoch+1}/{num_epochs}. Avg Loss: {total_loss / len(idx_to_word):.4f}. Time: {time.time()-start:.3f}s\")"
      ],
      "execution_count": 16,
      "outputs": [
        {
          "output_type": "stream",
          "text": [
            "Epoch: 10/100. Avg Loss: 0.1535. Time: 35.440s\n",
            "Epoch: 20/100. Avg Loss: 0.1137. Time: 36.319s\n",
            "Epoch: 30/100. Avg Loss: 0.0983. Time: 35.920s\n",
            "Epoch: 40/100. Avg Loss: 0.0895. Time: 36.608s\n",
            "Epoch: 50/100. Avg Loss: 0.0836. Time: 35.835s\n",
            "Epoch: 60/100. Avg Loss: 0.0792. Time: 35.870s\n",
            "Epoch: 70/100. Avg Loss: 0.0758. Time: 35.847s\n",
            "Epoch: 80/100. Avg Loss: 0.0731. Time: 36.617s\n",
            "Epoch: 90/100. Avg Loss: 0.0708. Time: 36.262s\n",
            "Epoch: 100/100. Avg Loss: 0.0689. Time: 36.193s\n"
          ],
          "name": "stdout"
        }
      ]
    },
    {
      "cell_type": "code",
      "metadata": {
        "id": "uGFfZXnWdSvv",
        "colab_type": "code",
        "colab": {
          "base_uri": "https://localhost:8080/",
          "height": 350
        },
        "outputId": "cc4623e5-30e8-4055-aaf8-f62b5e62c197"
      },
      "source": [
        "import matplotlib.pyplot as plt\n",
        "\n",
        "plt.figure(figsize=(15, 5))\n",
        "plt.plot(loss_list, marker='s')\n",
        "plt.xlabel('epoch')\n",
        "plt.ylabel('Avg Loss')\n",
        "plt.title('GloVe Model')\n",
        "plt.show()"
      ],
      "execution_count": 66,
      "outputs": [
        {
          "output_type": "display_data",
          "data": {
            "image/png": "[encoded data removed]",
            "text/plain": [
              "<Figure size 1080x360 with 1 Axes>"
            ]
          },
          "metadata": {
            "tags": []
          }
        }
      ]
    },
    {
      "cell_type": "markdown",
      "metadata": {
        "id": "nBEqvvFFB90X",
        "colab_type": "text"
      },
      "source": [
        "#相似性检验"
      ]
    },
    {
      "cell_type": "code",
      "metadata": {
        "id": "RUlzBSqt2DqA",
        "colab_type": "code",
        "colab": {}
      },
      "source": [
        "def get_similarity(word, k, embed):\n",
        "    W = embed.data\n",
        "    x = W[word_to_idx[word]]\n",
        "    cos = torch.matmul(W, x) / (torch.sum(W * W, dim=-1) * torch.sum(x * x) + 1e-9).sqrt()\n",
        "    _, topk = torch.topk(cos, k+1)\n",
        "    for i in topk[1:]:\n",
        "        print(f\"cosine sim={cos[i]:.3f}: {idx_to_word[i]}.\")"
      ],
      "execution_count": 0,
      "outputs": []
    },
    {
      "cell_type": "code",
      "metadata": {
        "id": "pty_6A9V8vok",
        "colab_type": "code",
        "colab": {
          "base_uri": "https://localhost:8080/",
          "height": 67
        },
        "outputId": "b8d411ea-8e6a-4618-8de2-a338dcb6482e"
      },
      "source": [
        "get_similar(\"has\", 3, glove.W1.weight + glove.W2.weight)"
      ],
      "execution_count": 88,
      "outputs": [
        {
          "output_type": "stream",
          "text": [
            "cosine sim=0.646; had\n",
            "cosine sim=0.612; been\n",
            "cosine sim=0.584; have\n"
          ],
          "name": "stdout"
        }
      ]
    }
  ]
}
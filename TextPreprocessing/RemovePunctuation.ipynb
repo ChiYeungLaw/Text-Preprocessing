{
 "cells": [
  {
   "cell_type": "markdown",
   "metadata": {
    "colab_type": "text",
    "id": "29PCOW-zpDzk"
   },
   "source": [
    "# 文本去除标点符号"
   ]
  },
  {
   "cell_type": "markdown",
   "metadata": {
    "colab_type": "text",
    "id": "88r0aFaspMTF"
   },
   "source": [
    "## 英文文本"
   ]
  },
  {
   "cell_type": "markdown",
   "metadata": {
    "colab_type": "text",
    "id": "QvnpUPjmpQVk"
   },
   "source": [
    "利用正则表达式实现该功能。"
   ]
  },
  {
   "cell_type": "markdown",
   "metadata": {
    "colab_type": "text",
    "id": "e3NZ8NTpqQeB"
   },
   "source": [
    "将原文本中的标点符号换为空格。"
   ]
  },
  {
   "cell_type": "code",
   "execution_count": 3,
   "metadata": {
    "colab": {
     "base_uri": "https://localhost:8080/",
     "height": 35
    },
    "colab_type": "code",
    "id": "qRZWgRwwpZtN",
    "outputId": "77ccdf8e-7fa9-4dfb-a5f5-e3865fd29146"
   },
   "outputs": [
    {
     "data": {
      "text/plain": [
       "'Hello Ben Kenny I Love you bye bye Star waker monster '"
      ]
     },
     "execution_count": 3,
     "metadata": {
      "tags": []
     },
     "output_type": "execute_result"
    }
   ],
   "source": [
    "import re\n",
    "\n",
    "eng_txt = \"Hello.Ben.Kenny/.I Love,[you].bye~bye,.Star-waker+monster,\"\n",
    "res = re.sub(r'\\W+', ' ', eng_txt)\n",
    "res"
   ]
  },
  {
   "cell_type": "markdown",
   "metadata": {
    "colab_type": "text",
    "id": "hdAkIy9rqWxW"
   },
   "source": [
    "将原文本中的标点符号换为空格，并做简单的分词。"
   ]
  },
  {
   "cell_type": "code",
   "execution_count": 6,
   "metadata": {
    "colab": {
     "base_uri": "https://localhost:8080/",
     "height": 35
    },
    "colab_type": "code",
    "id": "BpZqTir9qfjX",
    "outputId": "ad1eea55-e90b-4c29-d9b8-2143e022626e"
   },
   "outputs": [
    {
     "name": "stdout",
     "output_type": "stream",
     "text": [
      "['Hello', 'Ben', 'Kenny', 'I', 'Love', 'you', 'bye', 'bye', 'Star', 'waker', 'monster', '']\n"
     ]
    }
   ],
   "source": [
    "res = re.split(r'\\W+', eng_txt)\n",
    "print(res)"
   ]
  },
  {
   "cell_type": "markdown",
   "metadata": {
    "colab_type": "text",
    "id": "YXYigV3aqtt9"
   },
   "source": [
    "## 中文文本"
   ]
  },
  {
   "cell_type": "markdown",
   "metadata": {
    "colab_type": "text",
    "id": "gOt0RaW-q7d_"
   },
   "source": [
    "利用Zhon库中的符号集实现该功能。"
   ]
  },
  {
   "cell_type": "code",
   "execution_count": 9,
   "metadata": {
    "colab": {
     "base_uri": "https://localhost:8080/",
     "height": 211
    },
    "colab_type": "code",
    "id": "K9V5y3UyrBDg",
    "outputId": "37c1407e-b117-4b20-841d-c375542c7bf8"
   },
   "outputs": [
    {
     "name": "stdout",
     "output_type": "stream",
     "text": [
      "Collecting zhon\n",
      "\u001b[?25l  Downloading https://files.pythonhosted.org/packages/9f/b0/c56c6079ad47c35a2341440818b6620de8c46a265ed690a51b1a4e5591bc/zhon-1.1.5.tar.gz (99kB)\n",
      "\r",
      "\u001b[K     |███▎                            | 10kB 18.6MB/s eta 0:00:01\r",
      "\u001b[K     |██████▋                         | 20kB 1.8MB/s eta 0:00:01\r",
      "\u001b[K     |█████████▉                      | 30kB 2.6MB/s eta 0:00:01\r",
      "\u001b[K     |█████████████▏                  | 40kB 1.7MB/s eta 0:00:01\r",
      "\u001b[K     |████████████████▍               | 51kB 2.1MB/s eta 0:00:01\r",
      "\u001b[K     |███████████████████▊            | 61kB 2.5MB/s eta 0:00:01\r",
      "\u001b[K     |███████████████████████         | 71kB 2.9MB/s eta 0:00:01\r",
      "\u001b[K     |██████████████████████████▎     | 81kB 3.3MB/s eta 0:00:01\r",
      "\u001b[K     |█████████████████████████████▌  | 92kB 3.7MB/s eta 0:00:01\r",
      "\u001b[K     |████████████████████████████████| 102kB 2.4MB/s \n",
      "\u001b[?25hBuilding wheels for collected packages: zhon\n",
      "  Building wheel for zhon (setup.py) ... \u001b[?25l\u001b[?25hdone\n",
      "  Created wheel for zhon: filename=zhon-1.1.5-cp36-none-any.whl size=84293 sha256=635ccdef10bac9aa7a3abf44ae6dd1b74d55387080617bb7e157195af777694c\n",
      "  Stored in directory: /root/.cache/pip/wheels/0e/93/5a/ad2f403c359ba996e33c21bf18611d921413df9740ede2fcf4\n",
      "Successfully built zhon\n",
      "Installing collected packages: zhon\n",
      "Successfully installed zhon-1.1.5\n"
     ]
    }
   ],
   "source": [
    "pip install zhon"
   ]
  },
  {
   "cell_type": "markdown",
   "metadata": {
    "colab_type": "text",
    "id": "bodvhbCerKpt"
   },
   "source": [
    "zhon库中包含了两种的标点符号：\n",
    "Non_stop:"
   ]
  },
  {
   "cell_type": "code",
   "execution_count": 10,
   "metadata": {
    "colab": {
     "base_uri": "https://localhost:8080/",
     "height": 35
    },
    "colab_type": "code",
    "id": "3nGJ4NiFrQFg",
    "outputId": "417682b2-815e-4e8a-8a2b-39e321e6d222"
   },
   "outputs": [
    {
     "name": "stdout",
     "output_type": "stream",
     "text": [
      "＂＃＄％＆＇（）＊＋，－／：；＜＝＞＠［＼］＾＿｀｛｜｝～｟｠｢｣､　、〃〈〉《》「」『』【】〔〕〖〗〘〙〚〛〜〝〞〟〰〾〿–—‘’‛“”„‟…‧﹏﹑﹔·\n"
     ]
    }
   ],
   "source": [
    "from zhon.hanzi import non_stops\n",
    "print(non_stops)"
   ]
  },
  {
   "cell_type": "markdown",
   "metadata": {
    "colab_type": "text",
    "id": "wYQyW6FCrWhi"
   },
   "source": [
    "以及：stops"
   ]
  },
  {
   "cell_type": "code",
   "execution_count": 11,
   "metadata": {
    "colab": {
     "base_uri": "https://localhost:8080/",
     "height": 35
    },
    "colab_type": "code",
    "id": "WRvBuOSCrZ2b",
    "outputId": "662c762c-abde-4eab-9c28-ed0b3468ed62"
   },
   "outputs": [
    {
     "name": "stdout",
     "output_type": "stream",
     "text": [
      "！？｡。\n"
     ]
    }
   ],
   "source": [
    "from zhon.hanzi import stops\n",
    "print(stops)"
   ]
  },
  {
   "cell_type": "markdown",
   "metadata": {
    "colab_type": "text",
    "id": "SbSHTe9urjvY"
   },
   "source": [
    "当然平时使用时只要直接用zhon库的punctuation就好了："
   ]
  },
  {
   "cell_type": "code",
   "execution_count": 12,
   "metadata": {
    "colab": {
     "base_uri": "https://localhost:8080/",
     "height": 35
    },
    "colab_type": "code",
    "id": "VdIanfzOrprv",
    "outputId": "4f60a3c8-ccf9-4e71-a93d-4a7f32db8772"
   },
   "outputs": [
    {
     "name": "stdout",
     "output_type": "stream",
     "text": [
      "＂＃＄％＆＇（）＊＋，－／：；＜＝＞＠［＼］＾＿｀｛｜｝～｟｠｢｣､　、〃〈〉《》「」『』【】〔〕〖〗〘〙〚〛〜〝〞〟〰〾〿–—‘’‛“”„‟…‧﹏﹑﹔·！？｡。\n"
     ]
    }
   ],
   "source": [
    "from zhon.hanzi import punctuation\n",
    "print(punctuation)"
   ]
  },
  {
   "cell_type": "markdown",
   "metadata": {
    "colab_type": "text",
    "id": "1Uv2Prlar31K"
   },
   "source": [
    "在punctuation的基础上利用re做去除标点符号就好了。"
   ]
  },
  {
   "cell_type": "code",
   "execution_count": 13,
   "metadata": {
    "colab": {
     "base_uri": "https://localhost:8080/",
     "height": 35
    },
    "colab_type": "code",
    "id": "iiHhimA9r98N",
    "outputId": "81c08931-3bca-4754-bcf8-52cbb47f59e8"
   },
   "outputs": [
    {
     "name": "stdout",
     "output_type": "stream",
     "text": [
      "你好啊 啦啦啦啦啦 喵 汪汪汪 ` 你你你你你你您是 大大的\n"
     ]
    }
   ],
   "source": [
    "zh_txt = \"你好啊【啦啦啦啦啦】喵～。。。汪汪汪？`、、、、你你你你你你您是？？？？（——大大的\"\n",
    "res = re.sub(r\"[%s]+\" % punctuation, \" \", zh_txt)\n",
    "print(res)"
   ]
  },
  {
   "cell_type": "code",
   "execution_count": 14,
   "metadata": {
    "colab": {
     "base_uri": "https://localhost:8080/",
     "height": 35
    },
    "colab_type": "code",
    "id": "kikj69t3vnPZ",
    "outputId": "256773e6-c55f-4681-f079-3fae67f805b3"
   },
   "outputs": [
    {
     "name": "stdout",
     "output_type": "stream",
     "text": [
      "['你好啊', '啦啦啦啦啦', '喵', '汪汪汪', '`', '你你你你你你您是', '大大的']\n"
     ]
    }
   ],
   "source": [
    "res = re.split(r\"[%s]+\" % punctuation, zh_txt)\n",
    "print(res)"
   ]
  }
 ],
 "metadata": {
  "colab": {
   "collapsed_sections": [],
   "name": "RemoveEngPunctuation.ipynb",
   "provenance": []
  },
  "kernelspec": {
   "display_name": "Python 3",
   "language": "python",
   "name": "python3"
  },
  "language_info": {
   "codemirror_mode": {
    "name": "ipython",
    "version": 3
   },
   "file_extension": ".py",
   "mimetype": "text/x-python",
   "name": "python",
   "nbconvert_exporter": "python",
   "pygments_lexer": "ipython3",
   "version": "3.7.3"
  }
 },
 "nbformat": 4,
 "nbformat_minor": 1
}

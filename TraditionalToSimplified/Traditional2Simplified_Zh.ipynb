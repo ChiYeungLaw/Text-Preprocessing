{
 "cells": [
  {
   "cell_type": "markdown",
   "metadata": {},
   "source": [
    "关于繁体与简体互相转换，网上已经有成熟的代码，只需要把它们下载下来就可以愉快的使用啦～"
   ]
  },
  {
   "cell_type": "markdown",
   "metadata": {},
   "source": [
    "把这两个文件下载下来，放在与代码同一目录即可：\n",
    "（1）[zh_wiki](https://raw.githubusercontent.com/skydark/nstools/master/zhtools/zh_wiki.py)\n",
    "（2）[langcov](https://github.com/skydark/nstools/blob/master/zhtools/langconv.py)"
   ]
  },
  {
   "cell_type": "markdown",
   "metadata": {},
   "source": [
    "繁转简："
   ]
  },
  {
   "cell_type": "code",
   "execution_count": 2,
   "metadata": {},
   "outputs": [
    {
     "name": "stdout",
     "output_type": "stream",
     "text": [
      "忧郁的台湾乌龟\n"
     ]
    }
   ],
   "source": [
    "from langconv import *\n",
    "\n",
    "def Tra2Sim(sent):\n",
    "    return Converter('zh-hans').convert(sent)\n",
    "tr_sent = \"憂鬱的臺灣烏龜\"\n",
    "sim_sent = Tra2Sim(tr_sent)\n",
    "print(sim_sent)"
   ]
  },
  {
   "cell_type": "markdown",
   "metadata": {},
   "source": [
    "简转繁："
   ]
  },
  {
   "cell_type": "code",
   "execution_count": 3,
   "metadata": {},
   "outputs": [
    {
     "name": "stdout",
     "output_type": "stream",
     "text": [
      "憂郁的臺灣烏龜\n"
     ]
    }
   ],
   "source": [
    "def Sim2Tra(sent):\n",
    "    return Converter('zh-hant').convert(sent)\n",
    "tr_sent = Sim2Tra(sim_sent)\n",
    "print(tr_sent)"
   ]
  }
 ],
 "metadata": {
  "kernelspec": {
   "display_name": "Python 3",
   "language": "python",
   "name": "python3"
  },
  "language_info": {
   "codemirror_mode": {
    "name": "ipython",
    "version": 3
   },
   "file_extension": ".py",
   "mimetype": "text/x-python",
   "name": "python",
   "nbconvert_exporter": "python",
   "pygments_lexer": "ipython3",
   "version": "3.6.5"
  }
 },
 "nbformat": 4,
 "nbformat_minor": 2
}
